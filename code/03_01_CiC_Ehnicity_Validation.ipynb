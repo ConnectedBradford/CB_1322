{
 "cells": [
  {
   "cell_type": "markdown",
   "id": "dd283e33-eede-4873-ba9f-ef0b308edd0d",
   "metadata": {},
   "source": [
    "# CiC Ethnicity Validation \n",
    "This script is to obtain ethnicity information from the master dataset and compare to ethnicity information in the CiC dataset. Where information is available in the CiC dataset but not in the master dataset, this will be used as an indicator of ethnic origin."
   ]
  },
  {
   "cell_type": "code",
   "execution_count": null,
   "id": "45347dde-c655-4938-928e-ccc223f4f8bd",
   "metadata": {},
   "outputs": [],
   "source": [
    "# Load libraries\n",
    "library(dplyr)\n",
    "library(here)\n",
    "library(ggplot2)\n",
    "library(bigrquery)\n",
    "bq_auth()"
   ]
  },
  {
   "cell_type": "code",
   "execution_count": null,
   "id": "c9c18481-ed52-473f-a46c-e78d9081bf36",
   "metadata": {},
   "outputs": [],
   "source": [
    "# Store the project ID\n",
    "project_id = \"yhcr-prd-phm-bia-core\"\n",
    "\n",
    "# Store Tables of Interest\n",
    "targetdb1 <-'yhcr-prd-phm-bia-core.CB_FDM_ChildrensSocialCare'\n",
    "targetdb1 <-gsub(' ','',targetdb1)\n",
    "print (targetdb1)\n",
    "\n",
    "targetdb2 <-'yhcr-prd-phm-bia-core.CB_FDM_MASTER'\n",
    "targetdb2 <-gsub(' ','',targetdb2)\n",
    "print (targetdb2)\n"
   ]
  },
  {
   "cell_type": "code",
   "execution_count": null,
   "id": "e77a8349-3e24-449e-846f-65b06873e4a0",
   "metadata": {},
   "outputs": [],
   "source": [
    "# Create SQL command\n",
    "\n",
    "sql1 <- paste('\n",
    "WITH distinct_pi AS (\n",
    "  SELECT DISTINCT person_id, EthnicOrigin\n",
    "  FROM ', targetdb1, '.tbl_CiC\n",
    ")\n",
    "SELECT distinct a.person_id, a.ethnicity_source_value, b.EthnicOrigin\n",
    "FROM distinct_pi b\n",
    "JOIN ', targetdb2,'.person a ON b.person_id = a.person_id\n",
    "LIMIT 4000;\n",
    "', sep = \"\")\n",
    "\n",
    "#This runs it\n",
    "tb3 <- bq_project_query(project_id, sql1)\n",
    "\n",
    "#This loads  it into an R data frame\n",
    "table <- bq_table_download(tb3)\n",
    "#This displays it\n",
    "table\n"
   ]
  },
  {
   "cell_type": "markdown",
   "id": "536944de-948d-4ef7-ab1b-977a328f2491",
   "metadata": {},
   "source": [
    "#### Create mapping for Broad and specific Ethnic Categories"
   ]
  },
  {
   "cell_type": "code",
   "execution_count": null,
   "id": "115c11bd-faee-4f60-b5ef-82cca20c6f22",
   "metadata": {
    "tags": []
   },
   "outputs": [],
   "source": [
    "# Create list of unique ethnic_source_values\n",
    "ethnicity_source_value <- unique(table$ethnicity_source_value)\n",
    "ethnicity_source_value"
   ]
  },
  {
   "cell_type": "code",
   "execution_count": null,
   "id": "c7dc58f5-d9d9-4041-8069-777e9348ca3a",
   "metadata": {
    "tags": []
   },
   "outputs": [],
   "source": [
    "# Create mapping dataframe\n",
    "mapping <- data.frame(\n",
    "  ethnicity_source_value = c(\n",
    "      \"Asian or Asian British: any other Asian background - England and Wales ethnic category 2011 census\",\n",
    "      \"Other ethnic group: any other ethnic group - England and Wales ethnic category 2011 census\",\n",
    "      \"White: English or Welsh or Scottish or Northern Irish or British - England and Wales ethnic category 2011 census\",\n",
    "      \"Asian or Asian British: Pakistani - England and Wales ethnic category 2011 census\",\n",
    "      \"Unknown/Refuse to say\", \"Mixed multiple ethnic groups: White and Asian - England and Wales ethnic category 2011 census\",\n",
    "      \"Black or African or Caribbean or Black British: African - England and Wales ethnic category 2011 census\",\n",
    "      \"Mixed multiple ethnic groups: any other Mixed or multiple ethnic background - England and Wales ethnic category 2011 census\",\n",
    "      \"Black or African or Caribbean or Black British: other Black or African or Caribbean background - England and Wales ethnic category 2011 census\",\n",
    "      \"White:Any other White background\", \"Other ethnic group: Arab - England and Wales ethnic category 2011 census\",\n",
    "      \"Asian or Asian British: Indian - England and Wales ethnic category 2011 census\",\n",
    "      \"Mixed multiple ethnic groups: White and Black African - England and Wales ethnic category 2011 census\",\n",
    "      \"Mixed multiple ethnic groups: White and Black Caribbean - England and Wales ethnic category 2011 census\",\n",
    "      \"White: Irish - England and Wales ethnic category 2011 census\",\n",
    "      \"Black or African or Caribbean or Black British: Caribbean - England and Wales ethnic category 2011 census\",\n",
    "      \"White: Gypsy or Irish Traveller - England and Wales ethnic category 2011 census\",\n",
    "      \"Asian or Asian British: Bangladeshi - England and Wales ethnic category 2011 census\",\n",
    "      \"Asian or Asian British: Chinese - England and Wales ethnic category 2011 census\" \n",
    "      \n",
    "      ),\n",
    "  BroadEthnicCategory = c(\n",
    "    \"Asian/Asian British\", \"Other ethnic group\", \"White\", \"Asian/Asian British\", \n",
    "    \"Unknown/Refuse to say\", \"Mixed ethnic group\", \"Black/African/Caribbean/Black British\",\n",
    "    \"Mixed ethnic group\", \"Black/African/Caribbean/Black British\", \"White\",\n",
    "    \"Other ethnic group\", \"Asian/Asian British\", \"Mixed ethnic group\", \n",
    "    \"Mixed ethnic group\", \"White\", \"Black/African/Caribbean/Black British\",\n",
    "    \"White\", \"Asian/Asian British\", \"Asian/Asian British\"\n",
    "  ),\n",
    "  SpecificEthnicCategory = c(\n",
    "    \"Other Asian background\", \"Other ethnic group\", \"English/Welsh/Scottish/Northern Irish/British\",\n",
    "    \"Pakistani\", \"Unknown/Refuse to say\", \"White and Asian\", \"African\",\n",
    "    \"Other mixed ethnic group\", \"other Black/African/Caribbean\",\n",
    "     \"Other White\", \"Arab\", \"Indian\", \"White and Black African\", \n",
    "    \"White and Black Caribbean\", \"Irish\", \"Caribbean\", \"Gypsy/Irish Traveller\", \n",
    "    \"Bangladeshi\", \"Chinese\"\n",
    "  )\n",
    ")"
   ]
  },
  {
   "cell_type": "code",
   "execution_count": null,
   "id": "529cb285-cdbe-4c91-9476-527dbd31a9f2",
   "metadata": {
    "tags": []
   },
   "outputs": [],
   "source": [
    "# Apply mapping\n",
    "mapped_data <- table %>%\n",
    "  left_join(mapping, by = \"ethnicity_source_value\")\n",
    "head(mapped_data)"
   ]
  },
  {
   "cell_type": "code",
   "execution_count": null,
   "id": "c4e652b3-5b56-448e-909c-7702381f0419",
   "metadata": {
    "tags": []
   },
   "outputs": [],
   "source": [
    "# List of ethnicorigin\n",
    "ethnicorigin <- unique(table$EthnicOrigin)\n",
    "ethnicorigin"
   ]
  },
  {
   "cell_type": "code",
   "execution_count": null,
   "id": "4423cffd-711c-479e-ba9d-9fdd0d9d99d3",
   "metadata": {
    "tags": []
   },
   "outputs": [],
   "source": [
    "mapping2 <- data.frame(\n",
    "  EthnicOrigin = c(\n",
    "      \"Asian/British Asian - Other\", \"Other Ethnic Group\", \"Gypsy/Roma\", \"White - British\",\n",
    "      \"Asian/British Asian - Pakistani\", \"Information Not Yet Obtained\",\n",
    "      \"Mixed - White/Asian\", \"Black/Black British - African\", \"Mixed - Other\",\n",
    "      \"Black - Other\", \"White - Other\", \"White - Eastern European\", \"\", \"Asian/British Asian - Indian\",\n",
    "      \"Mixed - White/Black African\", \"Mixed - White/Black Caribbean\", \"\",\n",
    "      \"Black/Black British - Caribbean\", \"Traveller of Irish Heritage\", \n",
    "      \"Asian/British Asian - Bangladeshi\", \"Asian/British Asian - Chinese\"\n",
    "     \n",
    "      \n",
    "      ),\n",
    "  BroadEthnicCategory_CiC = c(\n",
    "    \"Asian/Asian British\", \"Other ethnic group\", \"Other ethnic group\", \"White\", \"Asian/Asian British\", \n",
    "    \"Unknown/Refuse to say\", \"Mixed ethnic group\", \"Black/African/Caribbean/Black British\",\n",
    "    \"Mixed ethnic group\", \"Black/African/Caribbean/Black British\", \"White\", \"White\",\n",
    "    \"Other ethnic group\", \"Asian/Asian British\", \"Mixed ethnic group\", \n",
    "    \"Mixed ethnic group\", \"White\", \"Black/African/Caribbean/Black British\",\n",
    "    \"White\", \"Asian/Asian British\", \"Asian/Asian British\"\n",
    "  ),\n",
    "  SpecificEthnicCategory_CiC = c(\n",
    "    \"Other Asian background\", \"Other ethnic group\", \"Other ethnic group\", \"English/Welsh/Scottish/Northern Irish/British\",\n",
    "    \"Pakistani\", \"Unknown/Refuse to say\", \"White and Asian\", \"African\",\n",
    "    \"Other mixed ethnic group\", \"other Black/African/Caribbean\",\n",
    "     \"Other White\", \"Other White\", \"Arab\", \"Indian\", \"White and Black African\", \n",
    "    \"White and Black Caribbean\", \"Irish\", \"Caribbean\", \"Gypsy/Irish Traveller\", \n",
    "    \"Bangladeshi\", \"Chinese\"\n",
    "  )\n",
    ")"
   ]
  },
  {
   "cell_type": "code",
   "execution_count": null,
   "id": "796cda58-f874-4808-9b73-dd765c7e2361",
   "metadata": {
    "tags": []
   },
   "outputs": [],
   "source": [
    "mapping2"
   ]
  },
  {
   "cell_type": "code",
   "execution_count": null,
   "id": "7764aad7-cc12-4911-ba87-84d9e4dac1a5",
   "metadata": {
    "tags": []
   },
   "outputs": [],
   "source": [
    "# Apply mapping\n",
    "mapped_data <- mapped_data %>%\n",
    "  left_join(mapping2, by = \"EthnicOrigin\")\n",
    "head(mapped_data)"
   ]
  },
  {
   "cell_type": "code",
   "execution_count": null,
   "id": "11b0653e-9be0-464c-9208-19421a3c0b73",
   "metadata": {
    "tags": []
   },
   "outputs": [],
   "source": [
    "# Check how many match\n",
    "matched <- mapped_data %>%\n",
    "filter(BroadEthnicCategory == BroadEthnicCategory_CiC)\n",
    "nrow(matched)"
   ]
  },
  {
   "cell_type": "markdown",
   "id": "2d99ceb5-305f-4b49-b2f7-713fa8f8318d",
   "metadata": {},
   "source": [
    "617 out of 817 person_ids matched on ethnicity from both datasets (75.52%). But this is includng where ethnicity may not be available in either dataset."
   ]
  },
  {
   "cell_type": "code",
   "execution_count": null,
   "id": "4362390f-5aa0-454e-9ad0-6c7278261609",
   "metadata": {
    "tags": []
   },
   "outputs": [],
   "source": [
    "# Match after removal of any NAs\n",
    "matched_no_na <- mapped_data %>%\n",
    "filter(BroadEthnicCategory != \"Unknown/Refuse to say\" & BroadEthnicCategory_CiC != \"Unknown/Refuse to say\")\n",
    "nrow(matched_no_na)\n",
    "\n",
    "matched2 <- matched_no_na %>%\n",
    "filter(BroadEthnicCategory == BroadEthnicCategory_CiC)\n",
    "nrow(matched2)"
   ]
  },
  {
   "cell_type": "markdown",
   "id": "67e2c1cd-1ac3-4219-ad5c-8933dd1660a8",
   "metadata": {},
   "source": [
    "When looking if columns matched when removing any NA's. 613 out of the 738 matched (78.28%)."
   ]
  },
  {
   "cell_type": "code",
   "execution_count": null,
   "id": "a76d71eb-8141-4fec-be0d-9fad29f3fb8d",
   "metadata": {
    "tags": []
   },
   "outputs": [],
   "source": [
    "not_matched <- matched_no_na %>%\n",
    "filter(BroadEthnicCategory != BroadEthnicCategory_CiC)\n",
    "nrow(not_matched)"
   ]
  },
  {
   "cell_type": "code",
   "execution_count": null,
   "id": "5c7db568-0034-4407-8bc2-42003bfa89b1",
   "metadata": {
    "tags": []
   },
   "outputs": [],
   "source": [
    "# Summarise the mismatches\n",
    "mismatch_summary <- not_matched %>%\n",
    "  group_by(BroadEthnicCategory, BroadEthnicCategory_CiC) %>%\n",
    "  summarize(count = n(), .groups = 'drop')\n",
    "\n",
    "print(mismatch_summary)"
   ]
  },
  {
   "cell_type": "code",
   "execution_count": null,
   "id": "6a397712-d856-4bad-9434-402e2d605340",
   "metadata": {
    "tags": []
   },
   "outputs": [],
   "source": [
    "# Create heatmap\n",
    "ggplot(mismatch_summary, aes(x = BroadEthnicCategory, y = BroadEthnicCategory_CiC, fill = count)) +\n",
    "  geom_tile(color = \"white\") +\n",
    "  scale_fill_gradient(low = \"white\", high = \"red\") +\n",
    "  labs(title = \"Heatmap of Ethnic Category Mismatches\",\n",
    "       x = \"Broad Ethnic Category\",\n",
    "       y = \"Broad Ethnic Category (CiC)\",\n",
    "       fill = \"Count\") +\n",
    "  theme_minimal() +\n",
    "  theme(axis.text.x = element_text(angle = 45, hjust = 1))"
   ]
  },
  {
   "cell_type": "markdown",
   "id": "bc9e33ef-3c6f-42fd-8882-6f9302cbb8c4",
   "metadata": {},
   "source": [
    "Common descrepencies when master dataset says white but CiC states mixed and other ethnic group. There is also some discrepancy where master dataset says Asian but CiC states mixed and other ethnic group."
   ]
  },
  {
   "cell_type": "code",
   "execution_count": null,
   "id": "9092a912-debd-4e70-aad8-162f78e02613",
   "metadata": {
    "tags": []
   },
   "outputs": [],
   "source": [
    "# Check information CiC has that master does not\n",
    "check <- mapped_data %>%\n",
    "filter(BroadEthnicCategory == \"Unknown/Refuse to say\" & BroadEthnicCategory_CiC != \"Unknown/Refuse to say\") \n",
    "nrow(check)\n"
   ]
  },
  {
   "cell_type": "code",
   "execution_count": null,
   "id": "c1a0741a-46ee-40a2-818c-9e019bd13759",
   "metadata": {
    "tags": []
   },
   "outputs": [],
   "source": [
    "# Merge CiC where master data is missing\n",
    "mapped_data <- mapped_data %>%\n",
    "  mutate(\n",
    "    BroadEthnicCategory_merge = ifelse(BroadEthnicCategory == \"Unknown/Refuse to say\", BroadEthnicCategory_CiC, BroadEthnicCategory),\n",
    "    SpecificEthnicCategory_merge = ifelse(SpecificEthnicCategory == \"Unknown/Refuse to say\", SpecificEthnicCategory_CiC, SpecificEthnicCategory)\n",
    "  )\n",
    "head(mapped_data)"
   ]
  },
  {
   "cell_type": "markdown",
   "id": "103dfe75-e408-4a0c-9f29-786d2f8cc1c7",
   "metadata": {},
   "source": [
    "#### Upload table to Project workspace"
   ]
  },
  {
   "cell_type": "code",
   "execution_count": null,
   "id": "8d2f4c6d-0f93-4734-9905-d2e6a3c05d28",
   "metadata": {
    "tags": []
   },
   "outputs": [],
   "source": [
    "schema <- list(\n",
    "  list(\"person_id\", \"INTEGER\"),\n",
    "  list(\"ethnicity_source_value\", \"STRING\"),\n",
    "  list(\"EthnicOrigin\", \"STRING\"),\n",
    "  list(\"BroadEthnicCategory\", \"STRING\"),\n",
    "  list(\"SpecificEthnicCategory\", \"STRING\"),\n",
    "  list(\"BroadEthnicCategory_CiC\", \"STRING\"),\n",
    "  list(\"SpecificEthnicCategory_CiC\", \"STRING\"),\n",
    "  list(\"BroadEthnicCategory_merge\", \"STRING\"),\n",
    "  list(\"SpecificEthnicCategory_merge\", \"STRING\")\n",
    ")\n",
    "\n",
    "# Reverse the column order\n",
    "reverse <- mapped_data[, rev(colnames(mapped_data))]\n",
    "bq_table_upload(\"yhcr-prd-phm-bia-core.CB_2353.CiC_ethnicity\", reverse, schema = schema)"
   ]
  }
 ],
 "metadata": {
  "environment": {
   "kernel": "ir",
   "name": ".m120",
   "type": "gcloud",
   "uri": "us-docker.pkg.dev/deeplearning-platform-release/gcr.io/:m120"
  },
  "kernelspec": {
   "display_name": "R (Local)",
   "language": "R",
   "name": "ir"
  },
  "language_info": {
   "codemirror_mode": "r",
   "file_extension": ".r",
   "mimetype": "text/x-r-source",
   "name": "R",
   "pygments_lexer": "r",
   "version": "4.3.3"
  }
 },
 "nbformat": 4,
 "nbformat_minor": 5
}
