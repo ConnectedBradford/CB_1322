{
 "cells": [
  {
   "cell_type": "markdown",
   "id": "0e93e867-4d5f-45ab-afd7-31b426384f6e",
   "metadata": {},
   "source": [
    "# Age Validation\n",
    "This script is to extract age, validate it with the CiC dataset and to create an age started care."
   ]
  },
  {
   "cell_type": "code",
   "execution_count": null,
   "id": "bc7a4971-3840-45cf-9314-bd856fe89d06",
   "metadata": {
    "tags": []
   },
   "outputs": [],
   "source": [
    "# Load libraries\n",
    "library(dplyr)\n",
    "library(here)\n",
    "library(ggplot2)\n",
    "library(lubridate)\n",
    "library(bigrquery)\n",
    "bq_auth()"
   ]
  },
  {
   "cell_type": "code",
   "execution_count": null,
   "id": "e8960866-d5d1-411b-8e1a-a34ab96e7d41",
   "metadata": {
    "tags": []
   },
   "outputs": [],
   "source": [
    "# Store the project ID\n",
    "project_id = \"yhcr-prd-phm-bia-core\"\n",
    "\n",
    "# Store Tables of Interest\n",
    "targetdb1 <-'yhcr-prd-phm-bia-core.CB_FDM_ChildrensSocialCare'\n",
    "targetdb1 <-gsub(' ','',targetdb1)\n",
    "print (targetdb1)\n",
    "\n",
    "targetdb2 <-'yhcr-prd-phm-bia-core.CB_FDM_MASTER'\n",
    "targetdb2 <-gsub(' ','',targetdb2)\n",
    "print (targetdb2)\n"
   ]
  },
  {
   "cell_type": "markdown",
   "id": "f7ca38d0-19b1-4c6f-b196-8243fad7791c",
   "metadata": {
    "tags": []
   },
   "source": [
    "As there are multiple care entries the minimum startdate will be extracted. This assumes that the people it is the first time that people in this dataset entered care. I will first filter out where the partial postcode is bradford so that the minimum startdate is not related to a different area.  \n"
   ]
  },
  {
   "cell_type": "code",
   "execution_count": null,
   "id": "fbe42107-cbe1-4e2f-8e62-8f3a536f7c1c",
   "metadata": {
    "tags": []
   },
   "outputs": [],
   "source": [
    "# Create SQL command\n",
    "\n",
    "sql1 <- paste('\n",
    "WITH distinct_pi AS (\n",
    "  SELECT person_id, min(StartDate) as StartDate\n",
    "  FROM ', targetdb1, '.tbl_CiC\n",
    "  WHERE PCArea_Home LIKE \\'BD%\\'\n",
    "  GROUP BY person_id\n",
    ")\n",
    "SELECT distinct a.person_id, a.StartDate, c.YearOfBirth, b.year_of_birth, b.month_of_birth\n",
    "FROM distinct_pi a\n",
    "JOIN ', targetdb1, '.tbl_CiC c ON a.person_id = c.person_id AND a.StartDate = c.StartDate\n",
    "JOIN ', targetdb2,'.person b ON b.person_id = a.person_id\n",
    "LIMIT 4000;\n",
    "', sep = \"\")\n",
    "\n",
    "\n",
    "#This runs it\n",
    "tb3 <- bq_project_query(project_id, sql1)\n",
    "\n",
    "#This loads  it into an R data frame\n",
    "table <- bq_table_download(tb3)\n",
    "#This displays it\n",
    "table\n"
   ]
  },
  {
   "cell_type": "code",
   "execution_count": null,
   "id": "96f5600c-b8fe-4568-9530-10766e88458c",
   "metadata": {
    "tags": []
   },
   "outputs": [],
   "source": [
    "# Check if years match \n",
    "matchyear <- table %>%\n",
    " filter(YearOfBirth == year_of_birth)\n",
    "nrow(matchyear)"
   ]
  },
  {
   "cell_type": "markdown",
   "id": "ad1d4403-a9ea-44a4-b261-e91369cfb4e0",
   "metadata": {},
   "source": [
    "The year of birth matches in both datasets."
   ]
  },
  {
   "cell_type": "code",
   "execution_count": null,
   "id": "f00cc384-1ab7-49eb-aeac-d66b7118bc74",
   "metadata": {
    "tags": []
   },
   "outputs": [],
   "source": [
    "# Combine year_of_birth and month_of_birth into a date variable\n",
    "table2 <- table %>%\n",
    "  mutate(date_of_birth = make_date(year_of_birth, month_of_birth, 15))\n",
    "         \n",
    "head(table2)"
   ]
  },
  {
   "cell_type": "code",
   "execution_count": null,
   "id": "ca5af6ea-324d-4c67-a585-96267b7dcb3c",
   "metadata": {
    "tags": []
   },
   "outputs": [],
   "source": [
    "# Create age started care variable\n",
    "table3 <- table2 %>%\n",
    "  mutate(\n",
    "    age_start = floor(as.numeric(difftime(StartDate, date_of_birth, units = \"weeks\")) / 52.25\n",
    "  ))\n",
    "head(table3)"
   ]
  },
  {
   "cell_type": "code",
   "execution_count": null,
   "id": "4b690794-6dfb-47e7-a8c0-92435d85217f",
   "metadata": {
    "tags": []
   },
   "outputs": [],
   "source": [
    "# Create age_start_bands variable\n",
    "table4 <- table3 %>%\n",
    "  mutate(age_start_bands = cut(age_start, \n",
    "                               breaks = c(-Inf, 2, 4, 7, 11, 14, Inf),\n",
    "                               labels = c(\"0-2\", \"3-4\", \"5-7\", \"8-11\", \"12-14\", \"15-18\")))\n",
    "                               \n",
    "head(table4)\n"
   ]
  },
  {
   "cell_type": "markdown",
   "id": "e36e98eb-381d-40ed-b1ac-45648e7a90e4",
   "metadata": {
    "tags": []
   },
   "source": [
    "The age bands can be changed if there are more appropriate age bands such as developmental categories or any findings in the data."
   ]
  },
  {
   "cell_type": "code",
   "execution_count": null,
   "id": "13a73348-170e-4adf-a38b-fb1fe6462497",
   "metadata": {
    "tags": []
   },
   "outputs": [],
   "source": [
    "# Create table to upload\n",
    "upload <- table4 %>%\n",
    " select(person_id, date_of_birth)\n",
    "\n",
    "schema <- list(\n",
    "  list(\"person_id\", \"INTEGER\"),\n",
    "  list(\"date_of_birth\", \"DATE\")\n",
    ")\n",
    "\n",
    "# Reverse the column order\n",
    "reverse <- upload[, rev(colnames(upload))]\n",
    "bq_table_upload(\"yhcr-prd-phm-bia-core.CB_2353.CiC_birth_date\", reverse, schema = schema)"
   ]
  },
  {
   "cell_type": "code",
   "execution_count": null,
   "id": "fc83e1c8-5635-4430-bffd-a362a417be72",
   "metadata": {
    "tags": []
   },
   "outputs": [],
   "source": [
    "# Create Year_entered_care variable\n",
    "table5 <- table4 %>%\n",
    "  mutate(year_entered_care = year(StartDate))\n",
    "head(table5)"
   ]
  },
  {
   "cell_type": "code",
   "execution_count": null,
   "id": "c18dccce-1d5b-45db-b3f3-8e0254c4a973",
   "metadata": {
    "tags": []
   },
   "outputs": [],
   "source": [
    "# Create table to upload\n",
    "upload <- table5 %>%\n",
    " select(person_id, StartDate, date_of_birth, age_start, age_start_bands, year_entered_care)\n",
    "\n",
    "# Change structure\n",
    "upload$age_start_bands <- as.character(upload$age_start_bands)\n",
    "upload$year_entered_care <- as.numeric(upload$year_entered_care)\n",
    "\n",
    "schema <- list(\n",
    "  list(\"person_id\", \"INTEGER\"),\n",
    "  list(\"StartDate\", \"DATE\"),\n",
    "  list(\"date_of_birth\", \"DATE\"),\n",
    "  list(\"age_start\", \"INTEGER\"),\n",
    "  list(\"age_start_bands\", \"STRING\"),\n",
    "  list(\"year_entered_care\", \"INTEGER\")\n",
    ")\n",
    "\n",
    "# Reverse the column order\n",
    "reverse <- upload[, rev(colnames(upload))]\n",
    "bq_table_upload(\"yhcr-prd-phm-bia-core.CB_2353.CiC_age_start_care\", reverse, schema = schema)"
   ]
  }
 ],
 "metadata": {
  "environment": {
   "kernel": "ir",
   "name": ".m120",
   "type": "gcloud",
   "uri": "us-docker.pkg.dev/deeplearning-platform-release/gcr.io/:m120"
  },
  "kernelspec": {
   "display_name": "R (Local)",
   "language": "R",
   "name": "ir"
  },
  "language_info": {
   "codemirror_mode": "r",
   "file_extension": ".r",
   "mimetype": "text/x-r-source",
   "name": "R",
   "pygments_lexer": "r",
   "version": "4.3.3"
  }
 },
 "nbformat": 4,
 "nbformat_minor": 5
}
