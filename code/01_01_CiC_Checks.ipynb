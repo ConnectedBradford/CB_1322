{
 "cells": [
  {
   "cell_type": "markdown",
   "id": "c35ab5f4-9292-431c-8959-d8bf92817435",
   "metadata": {},
   "source": [
    "# Check CiC Dataset"
   ]
  },
  {
   "cell_type": "markdown",
   "id": "e00cbbb2-a5f5-46cc-8d40-c0f40731f826",
   "metadata": {},
   "source": [
    "#### Getting to Know the Dataset"
   ]
  },
  {
   "cell_type": "code",
   "execution_count": null,
   "id": "afaca081-fa34-4692-a0da-a71eef27d533",
   "metadata": {},
   "outputs": [],
   "source": [
    "# Load Libraries\n",
    "library(dplyr)\n",
    "library(here)\n",
    "library(tidyr)\n",
    "library(ggplot2)\n",
    "library(bigrquery)\n",
    "bq_auth()"
   ]
  },
  {
   "cell_type": "code",
   "execution_count": null,
   "id": "fa30525e-4ead-402b-8d79-8da513c68bf1",
   "metadata": {},
   "outputs": [],
   "source": [
    "# Pull Data\n",
    "# Store the project ID\n",
    "project_id = \"yhcr-prd-phm-bia-core\"\n",
    "\n",
    "# Store Tables of Interest\n",
    "targetdb1 <-'yhcr-prd-phm-bia-core.CB_FDM_ChildrensSocialCare'\n",
    "targetdb1 <-gsub(' ','',targetdb1)\n",
    "print (targetdb1)\n",
    "\n",
    "# Create SQL command\n",
    "sql1 <-paste('select * from ',targetdb1,'.tbl_CiC limit 10000;', sep = \"\")\n",
    "\n",
    "# Run Query\n",
    "tb1 <- bq_project_query(project_id, sql1)\n",
    "\n",
    "# Load into Dataframe\n",
    "table <- bq_table_download(tb1)\n",
    "\n",
    "table\n"
   ]
  },
  {
   "cell_type": "code",
   "execution_count": null,
   "id": "40aa96f4-3626-49f7-a3d1-c8680d11b049",
   "metadata": {},
   "outputs": [],
   "source": [
    "# Look at summary\n",
    "summary(table)"
   ]
  },
  {
   "cell_type": "code",
   "execution_count": null,
   "id": "7a5f71b9-f212-47ac-9261-8d5cc72e1c60",
   "metadata": {},
   "outputs": [],
   "source": [
    "# Check unique enteries for Ethnic Origin\n",
    "unique(table$EthnicOrigin)\n",
    "\n",
    "# Count number of unique enteries for Ethnic Origin\n",
    "length(unique(table$EthnicOrigin))"
   ]
  },
  {
   "cell_type": "markdown",
   "id": "42711e7f-fdd3-4d86-846d-037357e6570d",
   "metadata": {},
   "source": [
    "There are 16 ethnic origin categories including 'Information Not Yet Obtained'."
   ]
  },
  {
   "cell_type": "code",
   "execution_count": null,
   "id": "7c77c4ff-f4fe-4ada-a4e7-1feb44443e66",
   "metadata": {},
   "outputs": [],
   "source": [
    "# Check unique enteries for PCArea_Home\n",
    "unique(table$PCArea_Home)\n",
    "\n",
    "# Count number of unique enteries for PCArea_Home\n",
    "length(unique(table$PCArea_Home))"
   ]
  },
  {
   "cell_type": "markdown",
   "id": "934149d4-cd14-4343-a11d-7838f051e3d9",
   "metadata": {},
   "source": [
    "There are 37 unique area codes. Some appear to be outside of Bradford. OO00 appears to be ones not available."
   ]
  },
  {
   "cell_type": "code",
   "execution_count": null,
   "id": "3522f3f9-7889-4703-bd58-740210f0e0c7",
   "metadata": {},
   "outputs": [],
   "source": [
    "#### Check for Errors in Enteries"
   ]
  },
  {
   "cell_type": "code",
   "execution_count": null,
   "id": "420de4c2-ed51-4719-a8a7-b56e8b04217c",
   "metadata": {},
   "outputs": [],
   "source": [
    "# Check if all personal IDs are unique\n",
    "length(unique(table$person_id))\n",
    "\n",
    "# Amount of Records\n",
    "nrow(table)"
   ]
  },
  {
   "cell_type": "markdown",
   "id": "ccee3904-9c4e-4d9a-9762-beb59a2ccecc",
   "metadata": {},
   "source": [
    "There are more records than there are person_ids in the dataset.  There is 895 records in the dataset with 817 unique person_ids meaning that there are 78 records that are additional entries."
   ]
  },
  {
   "cell_type": "code",
   "execution_count": null,
   "id": "9acabd24-79a0-4081-ab60-d5d73fbe452d",
   "metadata": {},
   "outputs": [],
   "source": [
    "# Count number of occurrences of each personal_id\n",
    "person_id_counts <- table %>%\n",
    "  group_by(person_id) %>%\n",
    "  summarise(count = n()) %>%\n",
    "  filter(count > 1)\n",
    "\n",
    "nrow(person_id_counts)"
   ]
  },
  {
   "cell_type": "markdown",
   "id": "f4ffd50e-3303-4763-b875-346aea826a24",
   "metadata": {},
   "source": [
    "There is at least one additional record for 65 person_id.  "
   ]
  },
  {
   "cell_type": "markdown",
   "id": "ba618822-dbe0-47a8-8c70-3a506c75c76d",
   "metadata": {},
   "source": [
    "#### Check if any additional entries are duplicate records "
   ]
  },
  {
   "cell_type": "code",
   "execution_count": null,
   "id": "4515d73f-4e67-4005-8937-67a5d64e815d",
   "metadata": {},
   "outputs": [],
   "source": [
    "# Identify any duplicate records\n",
    "\n",
    "table_dist <- table %>%\n",
    "  distinct()\n",
    "\n",
    "nrow(table_dist)\n"
   ]
  },
  {
   "cell_type": "markdown",
   "id": "ad2dd151-d96b-4127-956a-db6c88cf59d1",
   "metadata": {},
   "source": [
    "    Two records were exact duplicate entries leaving 893 records and 76 records that have additional entries for person_id. This needs to be considered in further analyses.\n"
   ]
  },
  {
   "cell_type": "markdown",
   "id": "d6ece755-e113-401b-a510-f24e2c8137f1",
   "metadata": {},
   "source": [
    "#### Checking reason for multiple enteries\n",
    "Determining whether the additional enteries are care episodes or duplication with differing variables (e.g. differing EthnicOrigin or PostCode). \n",
    "Person_ids with additional enteries were selected to be compared in what variables differed among them."
   ]
  },
  {
   "cell_type": "code",
   "execution_count": null,
   "id": "812935cb-cccf-451f-81a1-cea621367b8c",
   "metadata": {},
   "outputs": [],
   "source": [
    "# Obtain enteries which have multiple enteries\n",
    "multiple_person_ids <- table_dist %>%\n",
    "  group_by(person_id) %>%\n",
    "  filter(n() > 1) %>%\n",
    "  ungroup()"
   ]
  },
  {
   "cell_type": "code",
   "execution_count": null,
   "id": "ba7f650b-af22-426a-a04a-a3789a13abdc",
   "metadata": {},
   "outputs": [],
   "source": [
    "# Compare differences within each person_id\n",
    "df_char <- multiple_person_ids %>%\n",
    "  mutate(across(everything(), as.character))\n",
    "\n",
    "# Pivot longer to compare entries\n",
    "pivot_long <- df_char %>%\n",
    "  pivot_longer(cols = -person_id, names_to = \"Variable\", values_to = \"Value\")\n",
    "\n",
    "# Identify differences within each person_id\n",
    "differences <- pivot_long %>%\n",
    "  group_by(person_id, Variable) %>%\n",
    "  summarise(Different = n_distinct(Value) > 1) %>% # count number of distinct values, returns TRUE if more than 1 unique value (differences)\n",
    "  filter(Different == TRUE) %>%\n",
    "  ungroup()\n",
    "\n",
    "print(differences)"
   ]
  },
  {
   "cell_type": "code",
   "execution_count": null,
   "id": "5a388550-5ea6-4d2f-b94e-31f2b03ad6e2",
   "metadata": {},
   "outputs": [],
   "source": [
    "# Summarise the number of differences for each variable\n",
    "differences_summary <- differences %>%\n",
    "  group_by(Variable) %>%\n",
    "  summarise(Count = n()) %>%\n",
    "  arrange(desc(Count))\n",
    "\n",
    "print(differences_summary)\n",
    "\n",
    "# Plot the summary \n",
    "plot <- ggplot(differences_summary, aes(x = reorder(Variable, Count), y = Count)) +\n",
    "  geom_bar(stat = \"identity\", fill = \"skyblue\") +\n",
    "  coord_flip() +\n",
    "  labs(title = \"Differences Within person_id for Each Variable\",\n",
    "       x = \"Variable\",\n",
    "       y = \"Number of person_id with Differences\") +\n",
    "  theme_minimal()\n",
    "\n",
    "plot"
   ]
  },
  {
   "cell_type": "markdown",
   "id": "4215994a-6966-4119-b01d-5a91d41c1c21",
   "metadata": {},
   "source": [
    "When looking at if variables differed within each person_id records at least once, there was at least one difference between entries when starting and ending care for every person_id, suggesting these additional records may be different episodes of care. However, some did show different entries in PCArea_home.\n",
    "To determine whether any additional entries were repeated care episodes with only changes in PCArea_home, further checks were undertaken. "
   ]
  },
  {
   "cell_type": "code",
   "execution_count": null,
   "id": "bb86ea82-bfda-4633-a2ce-789c3620e7db",
   "metadata": {},
   "outputs": [],
   "source": [
    "# Identify person_id with differences in PCArea_Home\n",
    "differences_PCArea_Home <- table_dist %>%\n",
    "  group_by(person_id) %>%\n",
    "  filter(n_distinct(PCArea_Home) > 1) %>%\n",
    "  ungroup()\n",
    "\n",
    "# Check if these person_id have any repeated StartDate or EndDate\n",
    "differences_dates <- differences_PCArea_Home %>%\n",
    "  group_by(person_id) %>%\n",
    "  summarise(\n",
    "    start_dates_same = any(duplicated(StartDate)),\n",
    "    end_dates_same = any(duplicated(EndDate))\n",
    "  ) %>%\n",
    "  filter(start_dates_same | end_dates_same)\n",
    "\n",
    "# Count how many PersonIDs have the same StartDate or EndDate\n",
    "true_count <- differences_dates %>%\n",
    "  summarise(Count = n())\n",
    "\n",
    "print(\"person_id with the same StartDate or EndDate for those with differences in PCArea_Home:\")\n",
    "print(differences_dates)\n",
    "\n",
    "print(\"Number of person_id with the same StartDate or EndDate:\")\n",
    "print(true_count)"
   ]
  },
  {
   "cell_type": "markdown",
   "id": "5de9ef82-f4aa-4a63-8a13-50fd656fd615",
   "metadata": {},
   "source": [
    "All enteries that had different PCArea_Home had different start and end dates. This indicates that none are duplicate entries of episodes of care. This reassures us that the additional enteries for person_ids are indeed additional care episodes. \n",
    "\n",
    "The fact that PCArea_Home differs for some people is important to consider during analyses."
   ]
  },
  {
   "cell_type": "markdown",
   "id": "e0103c00-e65d-42eb-92d8-c14f707cd52a",
   "metadata": {},
   "source": [
    "#### Overlapping dates \n",
    "Next, I checked whether any additional entries have any overlapping dates to signify any errors in enteries."
   ]
  },
  {
   "cell_type": "code",
   "execution_count": null,
   "id": "6a6a79b5-f268-4237-9fa8-44921aa435f9",
   "metadata": {},
   "outputs": [],
   "source": [
    "# Function to check for overlapping dates\n",
    "check_overlap <- function(dates) {\n",
    "  overlaps <- FALSE\n",
    "  for (i in 1:(nrow(dates) - 1)) {\n",
    "    for (j in (i + 1):nrow(dates)) {\n",
    "      if (dates$StartDate[i] <= dates$EndDate[j] && dates$EndDate[i] >= dates$StartDate[j]) {\n",
    "        overlaps <- TRUE\n",
    "        break\n",
    "      }\n",
    "    }\n",
    "    if (overlaps) break\n",
    "  }\n",
    "  return(overlaps)\n",
    "}\n",
    "\n",
    "\n",
    "# Check for overlapping dates within these person_ids\n",
    "overlapping_dates <- multiple_person_ids %>%\n",
    "  group_by(person_id) %>%\n",
    "  summarise(overlap = check_overlap(cur_data())) %>%\n",
    "  filter(overlap == TRUE)\n",
    "\n",
    "\n",
    "print(\"personal_id with overlapping StartDate and EndDate:\")\n",
    "print(overlapping_dates)"
   ]
  },
  {
   "cell_type": "markdown",
   "id": "8e596f19-b631-49aa-9b9b-e3fe4a940cbc",
   "metadata": {
    "tags": []
   },
   "source": [
    "There were no dates which overlapped for additional enteries"
   ]
  },
  {
   "cell_type": "markdown",
   "id": "8667b01b-1b9b-4968-835c-b8908b7a96e2",
   "metadata": {
    "tags": []
   },
   "source": [
    "Future analyses may consider creating a “care_episodes” variable to indicate the sequence of care episodes. For example a person who has been in care 5 times could have entries of 1 to 5 in the care episodes column representing the order of care. However, the care episodes will only be in the context of this data, children may have been in care before this date in this data."
   ]
  }
 ],
 "metadata": {
  "environment": {
   "kernel": "ir",
   "name": ".m120",
   "type": "gcloud",
   "uri": "us-docker.pkg.dev/deeplearning-platform-release/gcr.io/:m120"
  },
  "kernelspec": {
   "display_name": "R (Local)",
   "language": "R",
   "name": "ir"
  },
  "language_info": {
   "codemirror_mode": "r",
   "file_extension": ".r",
   "mimetype": "text/x-r-source",
   "name": "R",
   "pygments_lexer": "r",
   "version": "4.3.3"
  }
 },
 "nbformat": 4,
 "nbformat_minor": 5
}
