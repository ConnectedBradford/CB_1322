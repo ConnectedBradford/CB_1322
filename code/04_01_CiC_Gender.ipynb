{
 "cells": [
  {
   "cell_type": "markdown",
   "id": "5fe94341-197d-4883-900f-d03980a7f5b2",
   "metadata": {},
   "source": [
    "#### Gender Description\n",
    "This script is to pull the gender for the CiC dataset."
   ]
  },
  {
   "cell_type": "code",
   "execution_count": null,
   "id": "d3a89611-0db7-4602-9aa9-80765099995c",
   "metadata": {
    "tags": []
   },
   "outputs": [],
   "source": [
    "# Load libraries\n",
    "library(dplyr)\n",
    "library(here)\n",
    "library(ggplot2)\n",
    "library(bigrquery)\n",
    "bq_auth()"
   ]
  },
  {
   "cell_type": "code",
   "execution_count": null,
   "id": "be3a5ae3-b579-465c-afb6-074c73cfcaf0",
   "metadata": {
    "tags": []
   },
   "outputs": [],
   "source": [
    "# Store the project ID\n",
    "project_id = \"yhcr-prd-phm-bia-core\"\n",
    "\n",
    "# Store Tables of Interest\n",
    "targetdb1 <-'yhcr-prd-phm-bia-core.CB_FDM_ChildrensSocialCare'\n",
    "targetdb1 <-gsub(' ','',targetdb1)\n",
    "print (targetdb1)\n",
    "\n",
    "targetdb2 <-'yhcr-prd-phm-bia-core.CB_FDM_MASTER'\n",
    "targetdb2 <-gsub(' ','',targetdb2)\n",
    "print (targetdb2)\n"
   ]
  },
  {
   "cell_type": "code",
   "execution_count": null,
   "id": "6cbb6a05-842e-4548-a12b-1fd58494621c",
   "metadata": {
    "tags": []
   },
   "outputs": [],
   "source": [
    "# Create SQL command\n",
    "\n",
    "sql1 <- paste('\n",
    "WITH distinct_pi AS (\n",
    "  SELECT DISTINCT person_id, \n",
    "  FROM ', targetdb1, '.tbl_CiC\n",
    ")\n",
    "SELECT distinct a.person_id, b.gender_source_value\n",
    "FROM distinct_pi a\n",
    "JOIN ', targetdb2,'.person b ON b.person_id = a.person_id\n",
    "LIMIT 4000;\n",
    "', sep = \"\")\n",
    "\n",
    "#This runs it\n",
    "tb3 <- bq_project_query(project_id, sql1)\n",
    "\n",
    "#This loads  it into an R data frame\n",
    "table <- bq_table_download(tb3)\n",
    "#This displays it\n",
    "table\n"
   ]
  },
  {
   "cell_type": "code",
   "execution_count": null,
   "id": "63d677d2-4aeb-498a-9269-ef4fbee790c0",
   "metadata": {
    "tags": []
   },
   "outputs": [],
   "source": [
    "schema <- list(\n",
    "  list(\"person_id\", \"INTEGER\"),\n",
    "  list(\"gender_source_value\", \"STRING\")\n",
    ")\n",
    "\n",
    "# Reverse the column order\n",
    "reverse <- table[, rev(colnames(table))]\n",
    "bq_table_upload(\"yhcr-prd-phm-bia-core.CB_2353.CiC_gender\", reverse, schema = schema)"
   ]
  }
 ],
 "metadata": {
  "environment": {
   "kernel": "ir",
   "name": ".m120",
   "type": "gcloud",
   "uri": "us-docker.pkg.dev/deeplearning-platform-release/gcr.io/:m120"
  },
  "kernelspec": {
   "display_name": "R (Local)",
   "language": "R",
   "name": "ir"
  },
  "language_info": {
   "codemirror_mode": "r",
   "file_extension": ".r",
   "mimetype": "text/x-r-source",
   "name": "R",
   "pygments_lexer": "r",
   "version": "4.3.3"
  }
 },
 "nbformat": 4,
 "nbformat_minor": 5
}
