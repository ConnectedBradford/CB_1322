{
 "cells": [
  {
   "cell_type": "markdown",
   "id": "4b76fc52-cc76-4d75-a7f4-09b15ad3276a",
   "metadata": {},
   "source": [
    "# Find Bradford Cohort\n",
    "The purpose of this script is to filter partial postcodes that are missing or not in Bradford to define our cohort."
   ]
  },
  {
   "cell_type": "code",
   "execution_count": null,
   "id": "87e38a0b-1c8d-4ea3-9ff5-f8f4fbf661e9",
   "metadata": {
    "tags": []
   },
   "outputs": [],
   "source": [
    "# Load Libraries\n",
    "library(bigrquery)\n",
    "bq_auth()\n",
    "library(dplyr)"
   ]
  },
  {
   "cell_type": "code",
   "execution_count": null,
   "id": "0fb253ec-92c9-4b83-ba60-2fb1cca3a85b",
   "metadata": {
    "tags": []
   },
   "outputs": [],
   "source": [
    "# Store the project ID\n",
    "project_id = \"yhcr-prd-phm-bia-core\"\n",
    "\n",
    "\n",
    "# Store Tables of Interest\n",
    "targetdb1 <-'yhcr-prd-phm-bia-core.CB_FDM_ChildrensSocialCare'\n",
    "targetdb1 <-gsub(' ','',targetdb1)\n",
    "print (targetdb1)\n"
   ]
  },
  {
   "cell_type": "code",
   "execution_count": null,
   "id": "cf948d20-230e-4116-beb1-0a02a8a09c09",
   "metadata": {
    "tags": []
   },
   "outputs": [],
   "source": [
    "sql1 <- paste('\n",
    "SELECT person_id, PCArea_Home\n",
    "FROM ',targetdb1,'.tbl_CiC\n",
    "LIMIT 4000;\n",
    "', sep = \"\")\n",
    "\n",
    "#This runs it\n",
    "tb3 <- bq_project_query(project_id, sql1)\n",
    "\n",
    "#This loads  it into an R data frame\n",
    "table <- bq_table_download(tb3)\n",
    "#This displays it\n",
    "table\n",
    "\n"
   ]
  },
  {
   "cell_type": "code",
   "execution_count": null,
   "id": "43066e9e-43f9-4051-b895-2f69811756ca",
   "metadata": {},
   "outputs": [],
   "source": [
    "# See postcodes\n",
    "unique(table$PCArea_Home)"
   ]
  },
  {
   "cell_type": "code",
   "execution_count": null,
   "id": "6f15ffd0-f59a-45c3-8f4c-e8e3a979dda7",
   "metadata": {},
   "outputs": [],
   "source": [
    "# Filter out postcodes not related to Bradford\n",
    "table2 <- table %>% \n",
    " filter(grepl(\"BD\", PCArea_Home))\n",
    "\n",
    "unique(table2$PCArea_Home)"
   ]
  },
  {
   "cell_type": "code",
   "execution_count": null,
   "id": "419fc950-7cbd-4930-a448-4794ac559fdc",
   "metadata": {
    "tags": []
   },
   "outputs": [],
   "source": [
    "# Save Cohort Table\n",
    "table2 <- table2 %>%\n",
    "distinct(person_id)\n",
    "\n",
    "length(unique(table2$person_id))"
   ]
  },
  {
   "cell_type": "code",
   "execution_count": null,
   "id": "17f43835-22dc-473a-aa08-f784b3c57034",
   "metadata": {
    "tags": []
   },
   "outputs": [],
   "source": [
    "schema <- list(\n",
    "  list(\"person_id\", \"INTEGER\")\n",
    ")\n",
    "\n",
    "# Reverse the column order\n",
    "bq_table_upload(\"yhcr-prd-phm-bia-core.CB_2353.CiC_Bradford_Cohort\", table2, schema = schema)"
   ]
  },
  {
   "cell_type": "code",
   "execution_count": null,
   "id": "49016e0b-ef28-4843-9c2a-299f6391e4b3",
   "metadata": {},
   "outputs": [],
   "source": []
  }
 ],
 "metadata": {
  "environment": {
   "kernel": "ir",
   "name": ".m120",
   "type": "gcloud",
   "uri": "us-docker.pkg.dev/deeplearning-platform-release/gcr.io/:m120"
  },
  "kernelspec": {
   "display_name": "R (Local)",
   "language": "R",
   "name": "ir"
  },
  "language_info": {
   "codemirror_mode": "r",
   "file_extension": ".r",
   "mimetype": "text/x-r-source",
   "name": "R",
   "pygments_lexer": "r",
   "version": "4.3.3"
  }
 },
 "nbformat": 4,
 "nbformat_minor": 5
}
