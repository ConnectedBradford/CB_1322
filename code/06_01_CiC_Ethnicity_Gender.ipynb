{
 "cells": [
  {
   "cell_type": "markdown",
   "id": "9026f512-886e-44ac-b249-3f622e869875",
   "metadata": {},
   "source": [
    "# Ethnicity and Gender over time\n",
    "Look at ethnicity and gender cross_tabulations and changes over time entered care. "
   ]
  },
  {
   "cell_type": "code",
   "execution_count": null,
   "id": "911b747c-bc06-4c2a-a99b-92b3382b9ed6",
   "metadata": {
    "tags": []
   },
   "outputs": [],
   "source": [
    "# Load libraries\n",
    "library(dplyr)\n",
    "library(here)\n",
    "library(ggplot2)\n",
    "library(lubridate)\n",
    "library(bigrquery)\n",
    "bq_auth()"
   ]
  },
  {
   "cell_type": "code",
   "execution_count": null,
   "id": "28268755-d446-43d7-9121-c7f1e4f7b3f6",
   "metadata": {
    "tags": []
   },
   "outputs": [],
   "source": [
    "# Store the project ID\n",
    "project_id = \"yhcr-prd-phm-bia-core\"\n",
    "\n",
    "# Store Tables of Interest\n",
    "targetdb1 <-'yhcr-prd-phm-bia-core.CB_2353'\n",
    "targetdb1 <-gsub(' ','',targetdb1)\n",
    "print (targetdb1)\n"
   ]
  },
  {
   "cell_type": "code",
   "execution_count": null,
   "id": "0bd62204-0fec-4f4a-92e7-62bc2c41ae26",
   "metadata": {
    "tags": []
   },
   "outputs": [],
   "source": [
    "# Create SQL command\n",
    "sql1 <- paste('\n",
    "WITH distinct_pi AS (\n",
    "  SELECT  person_id\n",
    "  FROM ', targetdb1, '.CiC_Bradford_Cohort\n",
    ")\n",
    "SELECT  a.person_id, b.BroadEthnicCategory_merge, c.gender_source_value, d.year_entered_care\n",
    "FROM distinct_pi a\n",
    "JOIN ', targetdb1,'.CiC_ethnicity b ON b.person_id = a.person_id\n",
    "JOIN ', targetdb1, '.CiC_gender c ON a.person_id = c.person_id\n",
    "JOIN ', targetdb1, '.CiC_age_start_care d ON a.person_id = d.person_id\n",
    "LIMIT 4000;\n",
    "', sep = \"\")\n",
    "\n",
    "\n",
    "#This runs it\n",
    "tb3 <- bq_project_query(project_id, sql1)\n",
    "\n",
    "#This loads  it into an R data frame\n",
    "table <- bq_table_download(tb3)\n",
    "#This displays it\n",
    "table"
   ]
  },
  {
   "cell_type": "code",
   "execution_count": null,
   "id": "6c299477-abb2-44fc-b8c0-a2f9cd6df160",
   "metadata": {
    "tags": []
   },
   "outputs": [],
   "source": [
    "table2 <- table %>%\n",
    "filter(year_entered_care != 2021)\n",
    "table2"
   ]
  },
  {
   "cell_type": "markdown",
   "id": "0680edfc-2da8-4045-aad7-e14b96e62d48",
   "metadata": {
    "tags": []
   },
   "source": [
    "# Ethnic Breakdown"
   ]
  },
  {
   "cell_type": "code",
   "execution_count": null,
   "id": "869b9158-b4b7-4fbb-bee1-5f56f6b2e628",
   "metadata": {
    "tags": []
   },
   "outputs": [],
   "source": [
    "# Calculate proportions of Broad ethnic group\n",
    "proportions_data <- table2 %>%\n",
    "  group_by(BroadEthnicCategory_merge) %>%\n",
    "  summarise(count = n()) %>%\n",
    "  mutate(proportion = (count / sum(count)) *100 )\n",
    "\n",
    "# Display the proportions data\n",
    "print(proportions_data)"
   ]
  },
  {
   "cell_type": "code",
   "execution_count": null,
   "id": "9c5e9ba1-889e-460e-98dc-a6b6caa09405",
   "metadata": {
    "tags": []
   },
   "outputs": [],
   "source": [
    "# Create the pie chart\n",
    "ggplot(proportions_data, aes(x = \"\", y = proportion, fill = BroadEthnicCategory_merge)) +\n",
    "  geom_bar(stat = \"identity\", width = 1) +\n",
    "  coord_polar(theta = \"y\") +\n",
    "  labs(title = \"Proportion of Broad Ethnic Groups\",\n",
    "       x = \"\",\n",
    "       y = \"\") +\n",
    "  theme_void() +  \n",
    "  theme(legend.title = element_blank())  "
   ]
  },
  {
   "cell_type": "code",
   "execution_count": null,
   "id": "c502f736-f7be-4c32-a395-c315ce06b818",
   "metadata": {
    "tags": []
   },
   "outputs": [],
   "source": [
    "# Ethnic proportions over time\n",
    "proportions_data <- table2 %>%\n",
    "  group_by(year_entered_care, BroadEthnicCategory_merge) %>%\n",
    "  summarise(count = n()) %>%\n",
    "  mutate(proportion = count / sum(count))\n",
    "\n",
    "# View the proportions data\n",
    "print(proportions_data)"
   ]
  },
  {
   "cell_type": "code",
   "execution_count": null,
   "id": "b744573f-52f1-4818-8e86-f0d6239a86da",
   "metadata": {
    "tags": []
   },
   "outputs": [],
   "source": [
    "ggplot(proportions_data, aes(x = factor(year_entered_care), y = proportion, color = BroadEthnicCategory_merge, group = BroadEthnicCategory_merge)) +\n",
    "  geom_line() +\n",
    "  geom_point() +\n",
    "  labs(x = \"Year Entered Care\", y = \"Proportion\", color = \"Ethnicity\") +\n",
    "  scale_y_continuous(labels = scales::percent) +\n",
    "  theme_minimal() +\n",
    "  theme(axis.text.x = element_text(angle = 45, hjust = 1))"
   ]
  },
  {
   "cell_type": "markdown",
   "id": "42303d89-3cec-428c-be32-4034ed078a28",
   "metadata": {
    "tags": []
   },
   "source": [
    "# Gender Breakdown"
   ]
  },
  {
   "cell_type": "code",
   "execution_count": null,
   "id": "3bbc5f15-3847-44dc-801d-728c790a85fe",
   "metadata": {
    "tags": []
   },
   "outputs": [],
   "source": [
    "# Calculate proportions of gender\n",
    "proportions_data <- table2 %>%\n",
    "  group_by(gender_source_value) %>%\n",
    "  summarise(count = n()) %>%\n",
    "  mutate(proportion = (count / sum(count)) *100 )\n",
    "\n",
    "# Display the proportions data\n",
    "print(proportions_data)"
   ]
  },
  {
   "cell_type": "code",
   "execution_count": null,
   "id": "d1f4edce-cb4a-4396-824e-359fd8dc26ae",
   "metadata": {
    "tags": []
   },
   "outputs": [],
   "source": [
    "# Gender proportions over time\n",
    "proportions_data <- table2 %>%\n",
    "  group_by(year_entered_care, gender_source_value) %>%\n",
    "  summarise(count = n()) %>%\n",
    "  mutate(proportion = count / sum(count))\n",
    "\n",
    "# View the proportions data\n",
    "print(proportions_data)"
   ]
  },
  {
   "cell_type": "code",
   "execution_count": null,
   "id": "c045adb3-f9cc-4522-acee-25b8091d1d33",
   "metadata": {
    "tags": []
   },
   "outputs": [],
   "source": [
    "ggplot(proportions_data, aes(x = factor(year_entered_care), y = proportion, color = gender_source_value, group = gender_source_value)) +\n",
    "  geom_line() +\n",
    "  geom_point() +\n",
    "  labs(x = \"Year Entered Care\", y = \"Proportion\", color = \"Gender\") +\n",
    "  scale_y_continuous(labels = scales::percent) +\n",
    "  theme_minimal() +\n",
    "  theme(axis.text.x = element_text(angle = 45, hjust = 1))"
   ]
  },
  {
   "cell_type": "code",
   "execution_count": null,
   "id": "4a702e31-fdcc-4a3b-9e80-0453b49f21eb",
   "metadata": {
    "tags": []
   },
   "outputs": [],
   "source": [
    "library(tidyr)\n",
    "proportions_wide <- proportions_data %>%\n",
    "  select(year_entered_care, gender_source_value, proportion) %>%  \n",
    "  pivot_wider(names_from = gender_source_value, values_from = proportion)\n",
    "proportions_wide\n",
    "\n",
    "proportion_difference <- proportions_wide %>%\n",
    "  mutate(proportion_difference = F - M) %>%\n",
    "  select(year_entered_care, proportion_difference)\n",
    "\n",
    "# View the proportion differences\n",
    "print(proportion_difference)\n"
   ]
  },
  {
   "cell_type": "code",
   "execution_count": null,
   "id": "b8facfb0-0b79-4505-8577-b393946035e6",
   "metadata": {
    "tags": []
   },
   "outputs": [],
   "source": [
    "ggplot(proportion_difference, aes(x = year_entered_care, y = proportion_difference)) +\n",
    "  geom_line() +\n",
    "  geom_point() +\n",
    "  labs(title = \"Proportion Difference Between Genders Over Time\",\n",
    "       x = \"Year Entered Care\",\n",
    "       y = \"Proportion Difference (F - M)\") +\n",
    "  theme_minimal()\n"
   ]
  },
  {
   "cell_type": "markdown",
   "id": "c1fdf888-37a5-47b4-91a6-a66d7f25c97c",
   "metadata": {
    "tags": []
   },
   "source": [
    "# Ethnicity by Gender Breakdown"
   ]
  },
  {
   "cell_type": "code",
   "execution_count": null,
   "id": "b0dfe581-4327-49ec-a33f-e289ff475ac9",
   "metadata": {
    "tags": []
   },
   "outputs": [],
   "source": [
    "crosstab <- table(table2$gender_source_value, table2$BroadEthnicCategory_merge)\n",
    "print(crosstab)\n",
    "\n",
    "# Convert to proportions\n",
    "crosstab_prop <- prop.table(crosstab, 2)\n",
    "print(crosstab_prop)"
   ]
  },
  {
   "cell_type": "code",
   "execution_count": null,
   "id": "066dbd1c-be4a-4f1c-9dde-a529d15ce39b",
   "metadata": {
    "tags": []
   },
   "outputs": [],
   "source": [
    "# Convert the table to a data frame\n",
    "crosstab_prop <- as.data.frame(crosstab_prop)\n",
    "\n",
    "# Create a stacked bar plot\n",
    "ggplot(crosstab_prop, aes(x = Var2, y = Freq, fill = Var1)) +\n",
    "  geom_bar(stat = \"identity\") +\n",
    "  labs(x = \"Ethnicity\", y = \"Proportion\", fill = \"Gender\") +\n",
    "  scale_y_continuous(labels = scales::percent) +\n",
    "  theme_minimal() +\n",
    "  theme(axis.text.x = element_text(angle = 45, hjust = 1))"
   ]
  },
  {
   "cell_type": "code",
   "execution_count": null,
   "id": "0a0c5b27-cc8e-44ed-af70-68c45244314e",
   "metadata": {
    "tags": []
   },
   "outputs": [],
   "source": [
    "colnames(crosstab_prop) <- c(\"Gender\", \"Ethnicity\", \"Proportion\")\n",
    "crosstab_wide <- crosstab_prop %>%\n",
    "  pivot_wider(names_from = Gender, values_from = Proportion)\n",
    "\n",
    "# Calculate the proportion differences between genders for each ethnicity\n",
    "crosstab_wide <- crosstab_wide %>%\n",
    "  mutate(proportion_difference = F - M)\n",
    "\n",
    "# View the proportion differences\n",
    "print(crosstab_wide)\n",
    "\n",
    "ggplot(crosstab_wide, aes(x = Ethnicity, y = proportion_difference)) +\n",
    "  geom_bar(stat = \"identity\", fill = \"steelblue\") +\n",
    "  labs(x = \"Ethnicity\", y = \"Proportion Difference (F - M)\", title = \"Proportion Differences Between Genders by Ethnicity\") +\n",
    "  scale_y_continuous(labels = scales::percent) +\n",
    "  theme_minimal() +\n",
    "  theme(axis.text.x = element_text(angle = 45, hjust = 1))"
   ]
  },
  {
   "cell_type": "code",
   "execution_count": null,
   "id": "4805e8d9-790e-440f-a79d-7fa789538957",
   "metadata": {
    "tags": []
   },
   "outputs": [],
   "source": [
    "# Calculate proportions of each gender within each ethnicity for each year\n",
    "proportions_data <- table2 %>%\n",
    "  group_by(year_entered_care, BroadEthnicCategory_merge, gender_source_value) %>%\n",
    "  summarise(count = n()) %>%\n",
    "  ungroup() %>%\n",
    "  group_by(year_entered_care, BroadEthnicCategory_merge) %>%\n",
    "  mutate(proportion = count / sum(count))\n",
    "\n",
    "proportions_data"
   ]
  },
  {
   "cell_type": "code",
   "execution_count": null,
   "id": "52c87492-17bd-46e8-96eb-09beaa5ce37b",
   "metadata": {
    "tags": []
   },
   "outputs": [],
   "source": [
    "# Create a line plot to visualise proportions over time\n",
    "ggplot(proportions_data, aes(x = factor(year_entered_care), y = proportion, color = gender_source_value, group = gender_source_value)) +\n",
    "  geom_line() +\n",
    "  geom_point() +\n",
    "  facet_wrap(~ BroadEthnicCategory_merge) +\n",
    "  labs(x = \"Year Entered Care\", y = \"Proportion\", color = \"Gender\") +\n",
    "  scale_y_continuous(labels = scales::percent) +\n",
    "  theme_minimal() +\n",
    "  theme(axis.text.x = element_text(angle = 45, hjust = 1))"
   ]
  },
  {
   "cell_type": "code",
   "execution_count": null,
   "id": "8d712395-f402-4ccc-af31-02f99f39c1a4",
   "metadata": {
    "tags": []
   },
   "outputs": [],
   "source": [
    "proportions_wide <- proportions_data %>%\n",
    "  select(-count) %>%\n",
    "  pivot_wider(names_from = gender_source_value, values_from = proportion) %>%\n",
    "  mutate(proportion_difference = F - M)\n",
    "\n",
    "# View the proportions and differences\n",
    "print(proportions_wide)\n",
    "\n",
    "# Plot the proportion differences over time for each ethnicity\n",
    "ggplot(proportions_wide, aes(x = year_entered_care, y = proportion_difference, color = BroadEthnicCategory_merge, group = BroadEthnicCategory_merge)) +\n",
    "  geom_line() +\n",
    "  geom_point() +\n",
    "  facet_wrap(~ BroadEthnicCategory_merge) +\n",
    "  labs(x = \"Year Entered Care\", y = \"Proportion Difference (F - M)\", title = \"Proportional Differences Between Genders Over Time by Ethnicity\") +\n",
    "  scale_y_continuous(labels = scales::percent) +\n",
    "  theme_minimal() +\n",
    "  theme(axis.text.x = element_text(angle = 45, hjust = 1)) +\n",
    "  scale_color_discrete(name = \"Ethnicity\")"
   ]
  },
  {
   "cell_type": "code",
   "execution_count": null,
   "id": "df00ef64-383a-4e19-b911-2d51ae34c490",
   "metadata": {
    "tags": []
   },
   "outputs": [],
   "source": [
    "# Calculate proportions of each ethnicity within each gender for each year\n",
    "proportions_data <- table2 %>%\n",
    "  group_by(year_entered_care, gender_source_value, BroadEthnicCategory_merge) %>%\n",
    "  summarise(count = n(), .groups = 'drop') %>%\n",
    "  group_by(year_entered_care, gender_source_value) %>%\n",
    "  mutate(proportion = count / sum(count)) %>%\n",
    "  filter(gender_source_value %in% c(\"M\", \"F\"))\n",
    "\n",
    "print(proportions_data)"
   ]
  },
  {
   "cell_type": "code",
   "execution_count": null,
   "id": "b0154dc5-0766-4c9b-8238-aa71a43bf4ef",
   "metadata": {
    "tags": []
   },
   "outputs": [],
   "source": [
    "# Create a line plot to visualise proportions over time\n",
    "ggplot(proportions_data, aes(x = factor(year_entered_care), y = proportion, color = BroadEthnicCategory_merge, group = BroadEthnicCategory_merge)) +\n",
    "  geom_line() +\n",
    "  geom_point() +\n",
    "  facet_wrap(~ gender_source_value) +\n",
    "  labs(x = \"Year Entered Care\", y = \"Proportion\", color = \"Ethnic Group\") +\n",
    "  scale_y_continuous(labels = scales::percent) +\n",
    "  theme_minimal() +\n",
    "  theme(axis.text.x = element_text(angle = 45, hjust = 1))"
   ]
  }
 ],
 "metadata": {
  "environment": {
   "kernel": "ir",
   "name": ".m120",
   "type": "gcloud",
   "uri": "us-docker.pkg.dev/deeplearning-platform-release/gcr.io/:m120"
  },
  "kernelspec": {
   "display_name": "R (Local)",
   "language": "R",
   "name": "ir"
  },
  "language_info": {
   "codemirror_mode": "r",
   "file_extension": ".r",
   "mimetype": "text/x-r-source",
   "name": "R",
   "pygments_lexer": "r",
   "version": "4.3.3"
  }
 },
 "nbformat": 4,
 "nbformat_minor": 5
}
